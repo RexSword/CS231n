{
 "cells": [
  {
   "cell_type": "code",
   "execution_count": 1,
   "metadata": {},
   "outputs": [
    {
     "name": "stdout",
     "output_type": "stream",
     "text": [
      "tensor([[0.4092, 0.2270, 0.2042],\n",
      "        [0.2165, 0.3301, 0.7394],\n",
      "        [0.3845, 0.9535, 0.3214],\n",
      "        [0.1700, 0.4354, 0.7387],\n",
      "        [0.2000, 0.1521, 0.4999]])\n"
     ]
    }
   ],
   "source": [
    "import torch\n",
    "x = torch.rand(5, 3)\n",
    "print(x)"
   ]
  },
  {
   "cell_type": "code",
   "execution_count": 2,
   "metadata": {},
   "outputs": [
    {
     "data": {
      "text/plain": [
       "True"
      ]
     },
     "execution_count": 2,
     "metadata": {},
     "output_type": "execute_result"
    }
   ],
   "source": [
    "torch.cuda.is_available()"
   ]
  },
  {
   "attachments": {},
   "cell_type": "markdown",
   "metadata": {},
   "source": [
    "• Implement the code for the 2-layer neural networks in CS231n \n",
    "2021 version with PyTorch (or TensorFlow). \n",
    "\n",
    "• Once you have the code (regardless of which framework you \n",
    "choose above), you will apply your own data.  The training and test \n",
    "dataset is 80%:20%.\n",
    "\n",
    "• You need to run the code with the following hyperparameter \n",
    "settings:\n",
    "✓ Activation function: tanh, ReLU;\n",
    "\n",
    "✓ Data preprocessing;\n",
    "\n",
    "✓ Initial weights: small random number, Xavier or Kaiming/MSRA \n",
    "Initialization\n",
    "\n",
    "✓ Loss function: without or with the regularization term \n",
    "$$(L2), λ = \n",
    "0.001 or 0.0001\n",
    "𝐸 𝐰 ≡1\n",
    "𝑁\n",
    "\n",
    "σ𝑐=1\n",
    "\n",
    "𝑁 𝑓 𝐱𝑐, 𝐰 −𝑦𝑐 2+λ(σ𝑖=0\n",
    "\n",
    "𝑝 (w\n",
    "\n",
    "𝑖\n",
    "\n",
    "o)2 + σ𝑖=1\n",
    "\n",
    "𝑝 σ\n",
    "\n",
    "𝑗=0\n",
    "\n",
    "𝑚 (𝑤𝑖𝑗\n",
    "\n",
    "𝐻 )2)\n",
    "$$\n",
    "✓ Optimizer: gradient descent, Momentum, Adam;\n",
    "\n",
    "✓ Learning epochs: 100, 200, 300;\n",
    "\n",
    "✓ Amount of hidden nodes: 5, 8, 11;\n",
    "\n",
    "✓ Learning rate decay schedule: none and cosine\n",
    "\n",
    "✓ Ensembles: top 3 models"
   ]
  }
 ],
 "metadata": {
  "kernelspec": {
   "display_name": "venv",
   "language": "python",
   "name": "python3"
  },
  "language_info": {
   "codemirror_mode": {
    "name": "ipython",
    "version": 3
   },
   "file_extension": ".py",
   "mimetype": "text/x-python",
   "name": "python",
   "nbconvert_exporter": "python",
   "pygments_lexer": "ipython3",
   "version": "3.9.5"
  },
  "orig_nbformat": 4,
  "vscode": {
   "interpreter": {
    "hash": "0725737be4be03859ccf648c604bdce2d511d4addba95219b9055f0ea318ae44"
   }
  }
 },
 "nbformat": 4,
 "nbformat_minor": 2
}
